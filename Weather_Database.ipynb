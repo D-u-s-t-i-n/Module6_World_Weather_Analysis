{
 "cells": [
  {
   "cell_type": "code",
   "execution_count": 122,
   "metadata": {},
   "outputs": [],
   "source": [
    "%matplotlib inline\n",
    "%matplotlib notebook\n",
    "# Import the dependencies.\n",
    "import pandas as pd\n",
    "#import gmaps\n",
    "import requests\n",
    "import numpy as np\n",
    "# Import the API key.\n",
    "from config import g_key\n",
    "# Use the citipy module to determine city based on latitude and longitude.\n",
    "from citipy import citipy\n",
    "# Import the API key.\n",
    "from config import weather_api_key\n",
    "# Import the datetime module from the datetime library.\n",
    "from datetime import datetime"
   ]
  },
  {
   "cell_type": "code",
   "execution_count": 123,
   "metadata": {},
   "outputs": [],
   "source": [
    "# Create a set of random latitude and longitude combinations.\n",
    "lats = np.random.uniform(low=-90.000, high=90.000, size=15)\n",
    "lngs = np.random.uniform(low=-180.000, high=180.000, size=15)\n",
    "lat_lngs = zip(lats, lngs)\n",
    "lat_lngs \n",
    "\n",
    "# Add the latitudes and longitudes to a list.\n",
    "coordinates = list(lat_lngs)\n",
    "cities = []\n",
    "countries = []"
   ]
  },
  {
   "cell_type": "code",
   "execution_count": 124,
   "metadata": {},
   "outputs": [
    {
     "data": {
      "text/plain": [
       "['au',\n",
       " 'cn',\n",
       " 'mx',\n",
       " 'pf',\n",
       " 'nz',\n",
       " 'kz',\n",
       " 'us',\n",
       " 'ru',\n",
       " 'sl',\n",
       " 'ru',\n",
       " 'mv',\n",
       " 'au',\n",
       " 'mu',\n",
       " 'us',\n",
       " 'cl']"
      ]
     },
     "execution_count": 124,
     "metadata": {},
     "output_type": "execute_result"
    }
   ],
   "source": [
    "# Use the tuple() function to display the latitude and longitude combinations.\n",
    "for coordinate in coordinates:\n",
    "    cities.append(citipy.nearest_city(coordinate[0], coordinate[1]).city_name)\n",
    "    countries.append(citipy.nearest_city(coordinate[0], coordinate[1]).country_code)\n",
    "countries #cities\n",
    "        #print(citipy.nearest_city(coordinate[0], coordinate[1]).city_name,\n",
    "         # citipy.nearest_city(coordinate[0], coordinate[1]).country_code)"
   ]
  },
  {
   "cell_type": "code",
   "execution_count": 51,
   "metadata": {},
   "outputs": [
    {
     "data": {
      "text/plain": [
       "['rikitea',\n",
       " 'taolanaro',\n",
       " 'hithadhoo',\n",
       " 'kudahuvadhoo',\n",
       " 'santa maria',\n",
       " 'puerto carreno',\n",
       " 'vaitupu',\n",
       " 'tasiilaq',\n",
       " 'alofi',\n",
       " 'dolores',\n",
       " 'atuona',\n",
       " 'vaini',\n",
       " 'olafsvik',\n",
       " 'asau',\n",
       " 'gorzow wielkopolski']"
      ]
     },
     "execution_count": 51,
     "metadata": {},
     "output_type": "execute_result"
    }
   ],
   "source": [
    "# Starting URL for Weather Map API Call.\n",
    "url = \"http://api.openweathermap.org/data/2.5/weather?units=Imperial&APPID=\" + weather_api_key\n",
    "#print(url)\n",
    "cities"
   ]
  },
  {
   "cell_type": "code",
   "execution_count": 80,
   "metadata": {},
   "outputs": [
    {
     "name": "stdout",
     "output_type": "stream",
     "text": [
      "http://api.openweathermap.org/data/2.5/weather?units=Imperial&APPID=3bb12566f1be46f148774e0759bbaf99&q=Boston\n"
     ]
    }
   ],
   "source": [
    "# Create an endpoint URL for a city.\n",
    "city_url = url + \"&q=\" + \"Boston\"\n",
    "print(city_url)"
   ]
  },
  {
   "cell_type": "code",
   "execution_count": 81,
   "metadata": {},
   "outputs": [
    {
     "data": {
      "text/plain": [
       "<Response [200]>"
      ]
     },
     "execution_count": 81,
     "metadata": {},
     "output_type": "execute_result"
    }
   ],
   "source": [
    "# Make a 'Get' request for the city weather.\n",
    "city_weather = requests.get(city_url)\n",
    "city_weather"
   ]
  },
  {
   "cell_type": "code",
   "execution_count": 82,
   "metadata": {},
   "outputs": [
    {
     "data": {
      "text/plain": [
       "200"
      ]
     },
     "execution_count": 82,
     "metadata": {},
     "output_type": "execute_result"
    }
   ],
   "source": [
    "city_weather.status_code"
   ]
  },
  {
   "cell_type": "code",
   "execution_count": 55,
   "metadata": {},
   "outputs": [
    {
     "data": {
      "text/plain": [
       "<Response [200]>"
      ]
     },
     "execution_count": 55,
     "metadata": {},
     "output_type": "execute_result"
    }
   ],
   "source": [
    "# Create an endpoint URL for a city.\n",
    "city_url = url + \"&q=\" + \"norman wells\" #\"Boston\"\n",
    "city_weather = requests.get(city_url)\n",
    "city_weather"
   ]
  },
  {
   "cell_type": "code",
   "execution_count": 56,
   "metadata": {},
   "outputs": [
    {
     "data": {
      "text/plain": [
       "'{\"coord\":{\"lon\":-126.83,\"lat\":65.28},\"weather\":[{\"id\":803,\"main\":\"Clouds\",\"description\":\"broken clouds\",\"icon\":\"04n\"}],\"base\":\"stations\",\"main\":{\"temp\":-2.2,\"feels_like\":-12.12,\"temp_min\":-2.2,\"temp_max\":-2.2,\"pressure\":1011,\"humidity\":70},\"visibility\":48279,\"wind\":{\"speed\":5.82,\"deg\":90},\"clouds\":{\"all\":75},\"dt\":1582083626,\"sys\":{\"type\":1,\"id\":951,\"country\":\"CA\",\"sunrise\":1582042759,\"sunset\":1582074212},\"timezone\":-25200,\"id\":6089245,\"name\":\"Norman Wells\",\"cod\":200}'"
      ]
     },
     "execution_count": 56,
     "metadata": {},
     "output_type": "execute_result"
    }
   ],
   "source": [
    "city_weather.text"
   ]
  },
  {
   "cell_type": "code",
   "execution_count": 57,
   "metadata": {},
   "outputs": [
    {
     "data": {
      "text/plain": [
       "{'coord': {'lon': -126.83, 'lat': 65.28},\n",
       " 'weather': [{'id': 803,\n",
       "   'main': 'Clouds',\n",
       "   'description': 'broken clouds',\n",
       "   'icon': '04n'}],\n",
       " 'base': 'stations',\n",
       " 'main': {'temp': -2.2,\n",
       "  'feels_like': -12.12,\n",
       "  'temp_min': -2.2,\n",
       "  'temp_max': -2.2,\n",
       "  'pressure': 1011,\n",
       "  'humidity': 70},\n",
       " 'visibility': 48279,\n",
       " 'wind': {'speed': 5.82, 'deg': 90},\n",
       " 'clouds': {'all': 75},\n",
       " 'dt': 1582083626,\n",
       " 'sys': {'type': 1,\n",
       "  'id': 951,\n",
       "  'country': 'CA',\n",
       "  'sunrise': 1582042759,\n",
       "  'sunset': 1582074212},\n",
       " 'timezone': -25200,\n",
       " 'id': 6089245,\n",
       " 'name': 'Norman Wells',\n",
       " 'cod': 200}"
      ]
     },
     "execution_count": 57,
     "metadata": {},
     "output_type": "execute_result"
    }
   ],
   "source": [
    "# Get the JSON text of the 'Get' request.\n",
    "city_weather.json()"
   ]
  },
  {
   "cell_type": "code",
   "execution_count": 58,
   "metadata": {},
   "outputs": [],
   "source": [
    "# Get the JSON data.\n",
    "boston_data = city_weather.json()"
   ]
  },
  {
   "cell_type": "code",
   "execution_count": 97,
   "metadata": {},
   "outputs": [
    {
     "name": "stdout",
     "output_type": "stream",
     "text": [
      "65.28 -126.83 -2.2 70 75 {'speed': 5.82, 'deg': 90} [{'id': 803, 'main': 'Clouds', 'description': 'broken clouds', 'icon': '04n'}] broken clouds\n"
     ]
    }
   ],
   "source": [
    "lat = boston_data[\"coord\"][\"lat\"]\n",
    "lng = boston_data[\"coord\"][\"lon\"]\n",
    "max_temp = boston_data[\"main\"][\"temp_max\"]\n",
    "humidity = boston_data[\"main\"][\"humidity\"]\n",
    "clouds = boston_data[\"clouds\"][\"all\"]\n",
    "wind = boston_data[\"wind\"][\"speed\"]\n",
    "wind = boston_data[\"wind\"]\n",
    "weata = boston_data[\"weather\"]\n",
    "# store the value of \"weather\" \n",
    "# key in variable z \n",
    "z = boston_data[\"weather\"] \n",
    "\n",
    "# store the value corresponding  \n",
    "# to the \"description\" key at  \n",
    "# the 0th index of z \n",
    "weather_description = z[0][\"description\"] \n",
    "print(lat, lng, max_temp, humidity, clouds, wind, weata, weather_description)"
   ]
  },
  {
   "cell_type": "code",
   "execution_count": 60,
   "metadata": {},
   "outputs": [
    {
     "data": {
      "text/plain": [
       "{'speed': 5.82, 'deg': 90}"
      ]
     },
     "execution_count": 60,
     "metadata": {},
     "output_type": "execute_result"
    }
   ],
   "source": [
    "boston_data[\"wind\"]"
   ]
  },
  {
   "cell_type": "code",
   "execution_count": 66,
   "metadata": {},
   "outputs": [
    {
     "name": "stdout",
     "output_type": "stream",
     "text": [
      "Beginning Data Retrieval     \n",
      "-----------------------------\n",
      "http://api.openweathermap.org/data/2.5/weather?units=Imperial&APPID=3bb12566f1be46f148774e0759bbaf99&q=i\n",
      "City not found. Skipping... 1\n",
      "http://api.openweathermap.org/data/2.5/weather?units=Imperial&APPID=3bb12566f1be46f148774e0759bbaf99&q=i\n",
      "City not found. Skipping... 2\n",
      "http://api.openweathermap.org/data/2.5/weather?units=Imperial&APPID=3bb12566f1be46f148774e0759bbaf99&q=i\n",
      "City not found. Skipping... 3\n",
      "http://api.openweathermap.org/data/2.5/weather?units=Imperial&APPID=3bb12566f1be46f148774e0759bbaf99&q=i\n",
      "City not found. Skipping... 4\n",
      "http://api.openweathermap.org/data/2.5/weather?units=Imperial&APPID=3bb12566f1be46f148774e0759bbaf99&q=i\n",
      "City not found. Skipping... 5\n",
      "http://api.openweathermap.org/data/2.5/weather?units=Imperial&APPID=3bb12566f1be46f148774e0759bbaf99&q=i\n",
      "City not found. Skipping... 6\n",
      "http://api.openweathermap.org/data/2.5/weather?units=Imperial&APPID=3bb12566f1be46f148774e0759bbaf99&q=i\n",
      "City not found. Skipping... 7\n",
      "http://api.openweathermap.org/data/2.5/weather?units=Imperial&APPID=3bb12566f1be46f148774e0759bbaf99&q=i\n",
      "City not found. Skipping... 8\n",
      "http://api.openweathermap.org/data/2.5/weather?units=Imperial&APPID=3bb12566f1be46f148774e0759bbaf99&q=i\n",
      "City not found. Skipping... 9\n",
      "http://api.openweathermap.org/data/2.5/weather?units=Imperial&APPID=3bb12566f1be46f148774e0759bbaf99&q=i\n",
      "City not found. Skipping... 10\n",
      "http://api.openweathermap.org/data/2.5/weather?units=Imperial&APPID=3bb12566f1be46f148774e0759bbaf99&q=i\n",
      "City not found. Skipping... 11\n",
      "http://api.openweathermap.org/data/2.5/weather?units=Imperial&APPID=3bb12566f1be46f148774e0759bbaf99&q=i\n",
      "City not found. Skipping... 12\n",
      "http://api.openweathermap.org/data/2.5/weather?units=Imperial&APPID=3bb12566f1be46f148774e0759bbaf99&q=i\n",
      "City not found. Skipping... 13\n",
      "http://api.openweathermap.org/data/2.5/weather?units=Imperial&APPID=3bb12566f1be46f148774e0759bbaf99&q=i\n",
      "City not found. Skipping... 14\n",
      "http://api.openweathermap.org/data/2.5/weather?units=Imperial&APPID=3bb12566f1be46f148774e0759bbaf99&q=i\n",
      "City not found. Skipping... 15\n",
      "-----------------------------\n",
      "Data Retrieval Complete      \n",
      "-----------------------------\n"
     ]
    }
   ],
   "source": [
    "# Create an empty list to hold the weather data.\n",
    "city_data = []\n",
    "\n",
    "\n",
    "# Print the beginning of the logging.\n",
    "print(\"Beginning Data Retrieval     \")\n",
    "print(\"-----------------------------\")\n",
    "\n",
    "# Create counters.\n",
    "record_count = 1\n",
    "set_count = 1\n",
    "not_found_count = 0\n",
    "\n",
    "# Loop through all the cities in our list.\n",
    "for i in range(len(cities)):\n",
    "\n",
    "    # Group cities in sets of 50 for logging purposes.\n",
    "    if (i % 50 == 0 and i >= 50):\n",
    "        set_count += 1\n",
    "        record_count = 1\n",
    "    # Create endpoint URL with each city.\n",
    "    city_url = url + \"&q=\" + \"i\"\n",
    "    print(city_url)\n",
    "    # Add 1 to the record count.\n",
    "    record_count += 1\n",
    "    # Run an API request for each of the cities.\n",
    "    try:\n",
    "        # Parse the JSON and retrieve data.\n",
    "        city_weather = requests.get(city_url).json()\n",
    "        # Parse out the needed data.\n",
    "        city_lat = city_weather[\"coord\"][\"lat\"]\n",
    "        city_lng = city_weather[\"coord\"][\"lon\"]\n",
    "        city_max_temp = city_weather[\"main\"][\"temp_max\"]\n",
    "        city_humidity = city_weather[\"main\"][\"humidity\"]\n",
    "        city_clouds = city_weather[\"clouds\"][\"all\"]\n",
    "        city_wind = city_weather[\"wind\"][\"speed\"]\n",
    "        city_country = city_weather[\"sys\"][\"country\"]\n",
    "        # Convert the date to ISO standard.\n",
    "        #city_date = datetime.utcfromtimestamp(city_weather[\"dt\"]).strftime('%Y-%m-%d %H:%M:%S')\n",
    "        # Append the city information into city_data list.\n",
    "        city_data.append({\"City\": city.title(),\n",
    "                          \"Lat\": city_lat,\n",
    "                          \"Lng\": city_lng,\n",
    "                          \"Max Temp\": city_max_temp,\n",
    "                          \"Humidity\": city_humidity,\n",
    "                          \"Cloudiness\": city_clouds,\n",
    "                          \"Wind Speed\": city_wind,\n",
    "                          \"Country\": city_country,\n",
    "                          \"Date\": city_date})\n",
    "\n",
    "    # If an error is experienced, skip the city.\n",
    "    except:\n",
    "        not_found_count += 1\n",
    "        print(\"City not found. Skipping...\", not_found_count)\n",
    "        pass\n",
    "\n",
    "# Indicate that Data Loading is complete.\n",
    "print(\"-----------------------------\")\n",
    "print(\"Data Retrieval Complete      \")\n",
    "print(\"-----------------------------\")"
   ]
  },
  {
   "cell_type": "code",
   "execution_count": 104,
   "metadata": {
    "scrolled": true
   },
   "outputs": [
    {
     "name": "stdout",
     "output_type": "stream",
     "text": [
      "Processing Record 0 of Set 0 | rikitea\n",
      "clear sky\n",
      "Processing Record 1 of Set 0 | taolanaro\n",
      "City not found. Skipping... 1\n",
      "Processing Record 2 of Set 0 | hithadhoo\n",
      "light rain\n",
      "Processing Record 3 of Set 0 | kudahuvadhoo\n",
      "broken clouds\n",
      "Processing Record 4 of Set 0 | santa maria\n",
      "scattered clouds\n",
      "Processing Record 5 of Set 0 | puerto carreno\n",
      "broken clouds\n",
      "Processing Record 6 of Set 0 | vaitupu\n",
      "City not found. Skipping... 6\n",
      "Processing Record 7 of Set 0 | tasiilaq\n",
      "light snow\n",
      "Processing Record 8 of Set 0 | alofi\n",
      "few clouds\n",
      "Processing Record 9 of Set 0 | dolores\n",
      "clear sky\n",
      "Processing Record 10 of Set 0 | atuona\n",
      "light rain\n",
      "Processing Record 11 of Set 0 | vaini\n",
      "scattered clouds\n",
      "Processing Record 12 of Set 0 | olafsvik\n",
      "light snow\n",
      "Processing Record 13 of Set 0 | asau\n",
      "overcast clouds\n",
      "Processing Record 14 of Set 0 | gorzow wielkopolski\n",
      "overcast clouds\n",
      "-----------------------------\n",
      "Data Retrieval Complete      \n",
      "-----------------------------\n"
     ]
    }
   ],
   "source": [
    "set_count = 0\n",
    "record_count = 0\n",
    "city_data = []\n",
    "# Loop through all the cities in the list.\n",
    "for i, city in enumerate(cities):\n",
    "\n",
    "    # Group cities in sets of 50 for logging purposes.\n",
    "    if (i % 50 == 0 and i >= 50):\n",
    "        set_count += 1\n",
    "        record_count = 1\n",
    "    # Create endpoint URL with each city.\n",
    "    city_url = url + \"&q=\" + city\n",
    "\n",
    "    # Log the URL, record, and set numbers and the city.\n",
    "    print(f\"Processing Record {record_count} of Set {set_count} | {city}\")\n",
    "    # Add 1 to the record count.\n",
    "    record_count += 1\n",
    "    # Run an API request for each of the cities.\n",
    "    try:\n",
    "        # Parse the JSON and retrieve data.\n",
    "        city_weather = requests.get(city_url).json()\n",
    "        # Parse out the needed data.\n",
    "        city_lat = city_weather[\"coord\"][\"lat\"]\n",
    "        city_lng = city_weather[\"coord\"][\"lon\"]\n",
    "        city_max_temp = city_weather[\"main\"][\"temp_max\"]\n",
    "        city_humidity = city_weather[\"main\"][\"humidity\"]\n",
    "        city_clouds = city_weather[\"clouds\"][\"all\"]\n",
    "        city_wind = city_weather[\"wind\"][\"speed\"]\n",
    "        city_country = city_weather[\"sys\"][\"country\"]\n",
    "        z = city_weather[\"weather\"]\n",
    "        try:\n",
    "            city_rain = city_weather[\"rain\"][\"3h\"]\n",
    "        except:\n",
    "            city_rain = 0\n",
    "        try:\n",
    "            city_snow = city_weather[\"snow\"][\"3h\"]\n",
    "        except:\n",
    "            city_snow = 0\n",
    "        \n",
    "        #rain\":{\"3h\":3}}\n",
    "        \n",
    "        #z = boston_data[\"weather\"] \n",
    "\n",
    "        # store the value corresponding  \n",
    "        # to the \"description\" key at  \n",
    "        # the 0th index of z \n",
    "        city_description  = z[0][\"description\"] \n",
    "        # Convert the date to ISO standard.\n",
    "        city_date = datetime.utcfromtimestamp(city_weather[\"dt\"]).strftime('%Y-%m-%d %H:%M:%S')\n",
    "        #print(city_weather)\n",
    "        # Append the city information into city_data list.\n",
    "        city_data.append({\"City\": city.title(),\n",
    "                          \"Country\": city_country,\n",
    "                          \"Lat\": city_lat,\n",
    "                          \"Lng\": city_lng,\n",
    "                          \"Max Temp\": city_max_temp,\n",
    "                          \"Humidity %\": city_humidity,\n",
    "                          \"Cloudiness %\": city_clouds,\n",
    "                          \"Wind Speed (mph)\": city_wind,\n",
    "                          \"Weather\": city_description,\n",
    "                          \"RainFall (in.)\": city_rain,\n",
    "                          \"SnowFall (in.)\": city_snow,\n",
    "                          \"Date\": city_date}) #\"Weather\": city_description,\n",
    "        print(city_description)\n",
    "    # If an error is experienced, skip the city.\n",
    "    except:\n",
    "        print(\"City not found. Skipping...\", i)\n",
    "        pass\n",
    "\n",
    "# Indicate that Data Loading is complete.\n",
    "print(\"-----------------------------\")\n",
    "print(\"Data Retrieval Complete      \")\n",
    "print(\"-----------------------------\")"
   ]
  },
  {
   "cell_type": "code",
   "execution_count": 108,
   "metadata": {},
   "outputs": [
    {
     "data": {
      "text/html": [
       "<div>\n",
       "<style scoped>\n",
       "    .dataframe tbody tr th:only-of-type {\n",
       "        vertical-align: middle;\n",
       "    }\n",
       "\n",
       "    .dataframe tbody tr th {\n",
       "        vertical-align: top;\n",
       "    }\n",
       "\n",
       "    .dataframe thead th {\n",
       "        text-align: right;\n",
       "    }\n",
       "</style>\n",
       "<table border=\"1\" class=\"dataframe\">\n",
       "  <thead>\n",
       "    <tr style=\"text-align: right;\">\n",
       "      <th></th>\n",
       "      <th>City</th>\n",
       "      <th>Lat</th>\n",
       "      <th>Lng</th>\n",
       "      <th>Max Temp</th>\n",
       "      <th>Humidity %</th>\n",
       "      <th>Cloudiness %</th>\n",
       "      <th>Wind Speed (mph)</th>\n",
       "      <th>Weather</th>\n",
       "      <th>Country</th>\n",
       "      <th>RainFall (in.)</th>\n",
       "      <th>SnowFall (in.)</th>\n",
       "      <th>Date</th>\n",
       "    </tr>\n",
       "  </thead>\n",
       "  <tbody>\n",
       "    <tr>\n",
       "      <th>0</th>\n",
       "      <td>Rikitea</td>\n",
       "      <td>-23.12</td>\n",
       "      <td>-134.97</td>\n",
       "      <td>78.85</td>\n",
       "      <td>78</td>\n",
       "      <td>1</td>\n",
       "      <td>14.81</td>\n",
       "      <td>clear sky</td>\n",
       "      <td>PF</td>\n",
       "      <td>0.00</td>\n",
       "      <td>0.00</td>\n",
       "      <td>2020-02-19 04:31:59</td>\n",
       "    </tr>\n",
       "    <tr>\n",
       "      <th>1</th>\n",
       "      <td>Hithadhoo</td>\n",
       "      <td>-0.60</td>\n",
       "      <td>73.08</td>\n",
       "      <td>83.34</td>\n",
       "      <td>78</td>\n",
       "      <td>9</td>\n",
       "      <td>13.09</td>\n",
       "      <td>light rain</td>\n",
       "      <td>MV</td>\n",
       "      <td>0.75</td>\n",
       "      <td>0.00</td>\n",
       "      <td>2020-02-19 04:32:00</td>\n",
       "    </tr>\n",
       "    <tr>\n",
       "      <th>2</th>\n",
       "      <td>Kudahuvadhoo</td>\n",
       "      <td>2.67</td>\n",
       "      <td>72.89</td>\n",
       "      <td>82.67</td>\n",
       "      <td>70</td>\n",
       "      <td>58</td>\n",
       "      <td>19.73</td>\n",
       "      <td>broken clouds</td>\n",
       "      <td>MV</td>\n",
       "      <td>0.00</td>\n",
       "      <td>0.00</td>\n",
       "      <td>2020-02-19 04:32:00</td>\n",
       "    </tr>\n",
       "    <tr>\n",
       "      <th>3</th>\n",
       "      <td>Santa Maria</td>\n",
       "      <td>-29.68</td>\n",
       "      <td>-53.81</td>\n",
       "      <td>71.60</td>\n",
       "      <td>94</td>\n",
       "      <td>40</td>\n",
       "      <td>3.36</td>\n",
       "      <td>scattered clouds</td>\n",
       "      <td>BR</td>\n",
       "      <td>0.00</td>\n",
       "      <td>0.00</td>\n",
       "      <td>2020-02-19 04:32:00</td>\n",
       "    </tr>\n",
       "    <tr>\n",
       "      <th>4</th>\n",
       "      <td>Puerto Carreno</td>\n",
       "      <td>6.19</td>\n",
       "      <td>-67.49</td>\n",
       "      <td>77.29</td>\n",
       "      <td>81</td>\n",
       "      <td>65</td>\n",
       "      <td>4.85</td>\n",
       "      <td>broken clouds</td>\n",
       "      <td>CO</td>\n",
       "      <td>0.00</td>\n",
       "      <td>0.00</td>\n",
       "      <td>2020-02-19 04:30:08</td>\n",
       "    </tr>\n",
       "    <tr>\n",
       "      <th>5</th>\n",
       "      <td>Tasiilaq</td>\n",
       "      <td>65.61</td>\n",
       "      <td>-37.64</td>\n",
       "      <td>21.20</td>\n",
       "      <td>85</td>\n",
       "      <td>100</td>\n",
       "      <td>25.28</td>\n",
       "      <td>light snow</td>\n",
       "      <td>GL</td>\n",
       "      <td>0.00</td>\n",
       "      <td>0.00</td>\n",
       "      <td>2020-02-19 04:32:01</td>\n",
       "    </tr>\n",
       "    <tr>\n",
       "      <th>6</th>\n",
       "      <td>Alofi</td>\n",
       "      <td>-19.06</td>\n",
       "      <td>-169.92</td>\n",
       "      <td>82.40</td>\n",
       "      <td>69</td>\n",
       "      <td>23</td>\n",
       "      <td>9.17</td>\n",
       "      <td>few clouds</td>\n",
       "      <td>NU</td>\n",
       "      <td>0.00</td>\n",
       "      <td>0.00</td>\n",
       "      <td>2020-02-19 04:32:01</td>\n",
       "    </tr>\n",
       "    <tr>\n",
       "      <th>7</th>\n",
       "      <td>Dolores</td>\n",
       "      <td>-36.31</td>\n",
       "      <td>-57.68</td>\n",
       "      <td>57.09</td>\n",
       "      <td>92</td>\n",
       "      <td>0</td>\n",
       "      <td>4.09</td>\n",
       "      <td>clear sky</td>\n",
       "      <td>AR</td>\n",
       "      <td>0.00</td>\n",
       "      <td>0.00</td>\n",
       "      <td>2020-02-19 04:32:01</td>\n",
       "    </tr>\n",
       "    <tr>\n",
       "      <th>8</th>\n",
       "      <td>Atuona</td>\n",
       "      <td>-9.80</td>\n",
       "      <td>-139.03</td>\n",
       "      <td>81.72</td>\n",
       "      <td>81</td>\n",
       "      <td>54</td>\n",
       "      <td>20.80</td>\n",
       "      <td>light rain</td>\n",
       "      <td>PF</td>\n",
       "      <td>0.19</td>\n",
       "      <td>0.00</td>\n",
       "      <td>2020-02-19 04:32:01</td>\n",
       "    </tr>\n",
       "    <tr>\n",
       "      <th>9</th>\n",
       "      <td>Vaini</td>\n",
       "      <td>-21.20</td>\n",
       "      <td>-175.20</td>\n",
       "      <td>78.80</td>\n",
       "      <td>83</td>\n",
       "      <td>40</td>\n",
       "      <td>9.17</td>\n",
       "      <td>scattered clouds</td>\n",
       "      <td>TO</td>\n",
       "      <td>0.00</td>\n",
       "      <td>0.00</td>\n",
       "      <td>2020-02-19 04:32:02</td>\n",
       "    </tr>\n",
       "    <tr>\n",
       "      <th>10</th>\n",
       "      <td>Olafsvik</td>\n",
       "      <td>64.89</td>\n",
       "      <td>-23.71</td>\n",
       "      <td>32.16</td>\n",
       "      <td>66</td>\n",
       "      <td>51</td>\n",
       "      <td>11.59</td>\n",
       "      <td>light snow</td>\n",
       "      <td>IS</td>\n",
       "      <td>0.00</td>\n",
       "      <td>0.19</td>\n",
       "      <td>2020-02-19 04:32:02</td>\n",
       "    </tr>\n",
       "    <tr>\n",
       "      <th>11</th>\n",
       "      <td>Asau</td>\n",
       "      <td>46.43</td>\n",
       "      <td>26.40</td>\n",
       "      <td>45.00</td>\n",
       "      <td>75</td>\n",
       "      <td>90</td>\n",
       "      <td>6.93</td>\n",
       "      <td>overcast clouds</td>\n",
       "      <td>RO</td>\n",
       "      <td>0.00</td>\n",
       "      <td>0.00</td>\n",
       "      <td>2020-02-19 04:32:02</td>\n",
       "    </tr>\n",
       "    <tr>\n",
       "      <th>12</th>\n",
       "      <td>Gorzow Wielkopolski</td>\n",
       "      <td>52.74</td>\n",
       "      <td>15.23</td>\n",
       "      <td>39.99</td>\n",
       "      <td>67</td>\n",
       "      <td>87</td>\n",
       "      <td>5.01</td>\n",
       "      <td>overcast clouds</td>\n",
       "      <td>PL</td>\n",
       "      <td>0.00</td>\n",
       "      <td>0.00</td>\n",
       "      <td>2020-02-19 04:28:31</td>\n",
       "    </tr>\n",
       "  </tbody>\n",
       "</table>\n",
       "</div>"
      ],
      "text/plain": [
       "                   City    Lat     Lng  Max Temp  Humidity %  Cloudiness %  \\\n",
       "0               Rikitea -23.12 -134.97     78.85          78             1   \n",
       "1             Hithadhoo  -0.60   73.08     83.34          78             9   \n",
       "2          Kudahuvadhoo   2.67   72.89     82.67          70            58   \n",
       "3           Santa Maria -29.68  -53.81     71.60          94            40   \n",
       "4        Puerto Carreno   6.19  -67.49     77.29          81            65   \n",
       "5              Tasiilaq  65.61  -37.64     21.20          85           100   \n",
       "6                 Alofi -19.06 -169.92     82.40          69            23   \n",
       "7               Dolores -36.31  -57.68     57.09          92             0   \n",
       "8                Atuona  -9.80 -139.03     81.72          81            54   \n",
       "9                 Vaini -21.20 -175.20     78.80          83            40   \n",
       "10             Olafsvik  64.89  -23.71     32.16          66            51   \n",
       "11                 Asau  46.43   26.40     45.00          75            90   \n",
       "12  Gorzow Wielkopolski  52.74   15.23     39.99          67            87   \n",
       "\n",
       "    Wind Speed (mph)           Weather Country  RainFall (in.)  \\\n",
       "0              14.81         clear sky      PF            0.00   \n",
       "1              13.09        light rain      MV            0.75   \n",
       "2              19.73     broken clouds      MV            0.00   \n",
       "3               3.36  scattered clouds      BR            0.00   \n",
       "4               4.85     broken clouds      CO            0.00   \n",
       "5              25.28        light snow      GL            0.00   \n",
       "6               9.17        few clouds      NU            0.00   \n",
       "7               4.09         clear sky      AR            0.00   \n",
       "8              20.80        light rain      PF            0.19   \n",
       "9               9.17  scattered clouds      TO            0.00   \n",
       "10             11.59        light snow      IS            0.00   \n",
       "11              6.93   overcast clouds      RO            0.00   \n",
       "12              5.01   overcast clouds      PL            0.00   \n",
       "\n",
       "    SnowFall (in.)                 Date  \n",
       "0             0.00  2020-02-19 04:31:59  \n",
       "1             0.00  2020-02-19 04:32:00  \n",
       "2             0.00  2020-02-19 04:32:00  \n",
       "3             0.00  2020-02-19 04:32:00  \n",
       "4             0.00  2020-02-19 04:30:08  \n",
       "5             0.00  2020-02-19 04:32:01  \n",
       "6             0.00  2020-02-19 04:32:01  \n",
       "7             0.00  2020-02-19 04:32:01  \n",
       "8             0.00  2020-02-19 04:32:01  \n",
       "9             0.00  2020-02-19 04:32:02  \n",
       "10            0.19  2020-02-19 04:32:02  \n",
       "11            0.00  2020-02-19 04:32:02  \n",
       "12            0.00  2020-02-19 04:28:31  "
      ]
     },
     "execution_count": 108,
     "metadata": {},
     "output_type": "execute_result"
    }
   ],
   "source": [
    "# Convert the array of dictionaries to a Pandas DataFrame.\n",
    "city_data_df = pd.DataFrame(city_data)\n",
    "city_data_df.index.name = None\n",
    "city_data_df"
   ]
  },
  {
   "cell_type": "code",
   "execution_count": 109,
   "metadata": {},
   "outputs": [],
   "source": [
    "file_name = \"WeatherPy_challenge.csv\"\n",
    "city_data_df.to_csv(file_name)"
   ]
  },
  {
   "cell_type": "code",
   "execution_count": 47,
   "metadata": {},
   "outputs": [
    {
     "data": {
      "text/plain": [
       "'FI'"
      ]
     },
     "execution_count": 47,
     "metadata": {},
     "output_type": "execute_result"
    }
   ],
   "source": [
    "city_country"
   ]
  },
  {
   "cell_type": "code",
   "execution_count": 119,
   "metadata": {
    "scrolled": true
   },
   "outputs": [
    {
     "data": {
      "text/plain": [
       "2"
      ]
     },
     "execution_count": 119,
     "metadata": {},
     "output_type": "execute_result"
    }
   ],
   "source": [
    "raincount = city_data_df[city_data_df[\"RainFall (in.)\"] != 0] #.count()\n",
    "raincount[\"RainFall (in.)\"].count()\n",
    "\n"
   ]
  },
  {
   "cell_type": "code",
   "execution_count": 121,
   "metadata": {},
   "outputs": [
    {
     "data": {
      "text/plain": [
       "City                1\n",
       "Lat                 1\n",
       "Lng                 1\n",
       "Max Temp            1\n",
       "Humidity %          1\n",
       "Cloudiness %        1\n",
       "Wind Speed (mph)    1\n",
       "Weather             1\n",
       "Country             1\n",
       "RainFall (in.)      1\n",
       "SnowFall (in.)      1\n",
       "Date                1\n",
       "dtype: int64"
      ]
     },
     "execution_count": 121,
     "metadata": {},
     "output_type": "execute_result"
    }
   ],
   "source": [
    "city_data_df[city_data_df[\"SnowFall (in.)\"] != 0].count()\n",
    "city_data_df[city_data_df[\"SnowFall (in.)\"] != 0].notnull().count()"
   ]
  },
  {
   "cell_type": "code",
   "execution_count": null,
   "metadata": {},
   "outputs": [],
   "source": []
  }
 ],
 "metadata": {
  "kernelspec": {
   "display_name": "PythonData",
   "language": "python",
   "name": "pythondata"
  },
  "language_info": {
   "codemirror_mode": {
    "name": "ipython",
    "version": 3
   },
   "file_extension": ".py",
   "mimetype": "text/x-python",
   "name": "python",
   "nbconvert_exporter": "python",
   "pygments_lexer": "ipython3",
   "version": "3.7.6"
  }
 },
 "nbformat": 4,
 "nbformat_minor": 4
}

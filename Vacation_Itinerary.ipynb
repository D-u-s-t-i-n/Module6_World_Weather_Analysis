{
 "cells": [
  {
   "cell_type": "markdown",
   "metadata": {},
   "source": [
    "# Module 6 Part 3"
   ]
  },
  {
   "cell_type": "code",
   "execution_count": 1,
   "metadata": {},
   "outputs": [],
   "source": [
    "%matplotlib inline\n",
    "%matplotlib notebook\n",
    "# Import the dependencies.\n",
    "import pandas as pd\n",
    "import gmaps\n",
    "import numpy as np\n",
    "# Import the API key.\n",
    "from config import g_key"
   ]
  },
  {
   "cell_type": "code",
   "execution_count": 2,
   "metadata": {},
   "outputs": [
    {
     "data": {
      "text/html": [
       "<div>\n",
       "<style scoped>\n",
       "    .dataframe tbody tr th:only-of-type {\n",
       "        vertical-align: middle;\n",
       "    }\n",
       "\n",
       "    .dataframe tbody tr th {\n",
       "        vertical-align: top;\n",
       "    }\n",
       "\n",
       "    .dataframe thead th {\n",
       "        text-align: right;\n",
       "    }\n",
       "</style>\n",
       "<table border=\"1\" class=\"dataframe\">\n",
       "  <thead>\n",
       "    <tr style=\"text-align: right;\">\n",
       "      <th></th>\n",
       "      <th>Unnamed: 0</th>\n",
       "      <th>City</th>\n",
       "      <th>Country</th>\n",
       "      <th>Max Temp</th>\n",
       "      <th>Current Description</th>\n",
       "      <th>Lat</th>\n",
       "      <th>Lng</th>\n",
       "      <th>Hotel Name</th>\n",
       "    </tr>\n",
       "  </thead>\n",
       "  <tbody>\n",
       "    <tr>\n",
       "      <th>0</th>\n",
       "      <td>2</td>\n",
       "      <td>Cape Town</td>\n",
       "      <td>ZA</td>\n",
       "      <td>66.00</td>\n",
       "      <td>clear sky</td>\n",
       "      <td>-33.93</td>\n",
       "      <td>18.42</td>\n",
       "      <td>Southern Sun Waterfront Cape Town</td>\n",
       "    </tr>\n",
       "    <tr>\n",
       "      <th>1</th>\n",
       "      <td>3</td>\n",
       "      <td>Mecca</td>\n",
       "      <td>SA</td>\n",
       "      <td>60.39</td>\n",
       "      <td>clear sky</td>\n",
       "      <td>21.43</td>\n",
       "      <td>39.83</td>\n",
       "      <td>Hotel Fairmont Makkah Clock Royal Tower</td>\n",
       "    </tr>\n",
       "    <tr>\n",
       "      <th>2</th>\n",
       "      <td>10</td>\n",
       "      <td>Punta Arenas</td>\n",
       "      <td>CL</td>\n",
       "      <td>55.40</td>\n",
       "      <td>broken clouds</td>\n",
       "      <td>-53.15</td>\n",
       "      <td>-70.92</td>\n",
       "      <td>Hotel Dreams Del Estrecho</td>\n",
       "    </tr>\n",
       "    <tr>\n",
       "      <th>3</th>\n",
       "      <td>27</td>\n",
       "      <td>Camana</td>\n",
       "      <td>PE</td>\n",
       "      <td>69.30</td>\n",
       "      <td>broken clouds</td>\n",
       "      <td>-16.62</td>\n",
       "      <td>-72.71</td>\n",
       "      <td>Hostal Morales</td>\n",
       "    </tr>\n",
       "    <tr>\n",
       "      <th>4</th>\n",
       "      <td>33</td>\n",
       "      <td>Bredasdorp</td>\n",
       "      <td>ZA</td>\n",
       "      <td>63.00</td>\n",
       "      <td>few clouds</td>\n",
       "      <td>-34.53</td>\n",
       "      <td>20.04</td>\n",
       "      <td>Bredasdorp Country Manor</td>\n",
       "    </tr>\n",
       "    <tr>\n",
       "      <th>...</th>\n",
       "      <td>...</td>\n",
       "      <td>...</td>\n",
       "      <td>...</td>\n",
       "      <td>...</td>\n",
       "      <td>...</td>\n",
       "      <td>...</td>\n",
       "      <td>...</td>\n",
       "      <td>...</td>\n",
       "    </tr>\n",
       "    <tr>\n",
       "      <th>134</th>\n",
       "      <td>532</td>\n",
       "      <td>Capao Da Canoa</td>\n",
       "      <td>BR</td>\n",
       "      <td>73.18</td>\n",
       "      <td>scattered clouds</td>\n",
       "      <td>-29.75</td>\n",
       "      <td>-50.01</td>\n",
       "      <td>Hotel Araçá</td>\n",
       "    </tr>\n",
       "    <tr>\n",
       "      <th>135</th>\n",
       "      <td>537</td>\n",
       "      <td>Luangwa</td>\n",
       "      <td>ZM</td>\n",
       "      <td>71.29</td>\n",
       "      <td>broken clouds</td>\n",
       "      <td>-15.62</td>\n",
       "      <td>30.42</td>\n",
       "      <td>Gerasimos Safari Lodge</td>\n",
       "    </tr>\n",
       "    <tr>\n",
       "      <th>136</th>\n",
       "      <td>539</td>\n",
       "      <td>Goure</td>\n",
       "      <td>NE</td>\n",
       "      <td>70.00</td>\n",
       "      <td>clear sky</td>\n",
       "      <td>13.98</td>\n",
       "      <td>10.27</td>\n",
       "      <td>NaN</td>\n",
       "    </tr>\n",
       "    <tr>\n",
       "      <th>137</th>\n",
       "      <td>542</td>\n",
       "      <td>Discovery Bay</td>\n",
       "      <td>US</td>\n",
       "      <td>68.00</td>\n",
       "      <td>clear sky</td>\n",
       "      <td>37.91</td>\n",
       "      <td>-121.60</td>\n",
       "      <td>Orwood Resort Inc</td>\n",
       "    </tr>\n",
       "    <tr>\n",
       "      <th>138</th>\n",
       "      <td>543</td>\n",
       "      <td>Creel</td>\n",
       "      <td>MX</td>\n",
       "      <td>64.69</td>\n",
       "      <td>clear sky</td>\n",
       "      <td>27.75</td>\n",
       "      <td>-107.63</td>\n",
       "      <td>Best Western Plus The Lodge at Creel</td>\n",
       "    </tr>\n",
       "  </tbody>\n",
       "</table>\n",
       "<p>139 rows × 8 columns</p>\n",
       "</div>"
      ],
      "text/plain": [
       "     Unnamed: 0            City Country  Max Temp Current Description    Lat  \\\n",
       "0             2       Cape Town      ZA     66.00           clear sky -33.93   \n",
       "1             3           Mecca      SA     60.39           clear sky  21.43   \n",
       "2            10    Punta Arenas      CL     55.40       broken clouds -53.15   \n",
       "3            27          Camana      PE     69.30       broken clouds -16.62   \n",
       "4            33      Bredasdorp      ZA     63.00          few clouds -34.53   \n",
       "..          ...             ...     ...       ...                 ...    ...   \n",
       "134         532  Capao Da Canoa      BR     73.18    scattered clouds -29.75   \n",
       "135         537         Luangwa      ZM     71.29       broken clouds -15.62   \n",
       "136         539           Goure      NE     70.00           clear sky  13.98   \n",
       "137         542   Discovery Bay      US     68.00           clear sky  37.91   \n",
       "138         543           Creel      MX     64.69           clear sky  27.75   \n",
       "\n",
       "        Lng                               Hotel Name  \n",
       "0     18.42        Southern Sun Waterfront Cape Town  \n",
       "1     39.83  Hotel Fairmont Makkah Clock Royal Tower  \n",
       "2    -70.92                Hotel Dreams Del Estrecho  \n",
       "3    -72.71                           Hostal Morales  \n",
       "4     20.04                 Bredasdorp Country Manor  \n",
       "..      ...                                      ...  \n",
       "134  -50.01                              Hotel Araçá  \n",
       "135   30.42                   Gerasimos Safari Lodge  \n",
       "136   10.27                                      NaN  \n",
       "137 -121.60                        Orwood Resort Inc  \n",
       "138 -107.63     Best Western Plus The Lodge at Creel  \n",
       "\n",
       "[139 rows x 8 columns]"
      ]
     },
     "execution_count": 2,
     "metadata": {},
     "output_type": "execute_result"
    }
   ],
   "source": [
    "# Configure gmaps to use your Google API key.\n",
    "gmaps.configure(api_key=g_key)\n",
    "\n",
    "WeatherVacation_df = pd.read_csv(\"Data/WeatherPy_vacation.csv\")\n",
    "WeatherVacation_df"
   ]
  },
  {
   "cell_type": "code",
   "execution_count": 3,
   "metadata": {},
   "outputs": [
    {
     "data": {
      "text/html": [
       "<div>\n",
       "<style scoped>\n",
       "    .dataframe tbody tr th:only-of-type {\n",
       "        vertical-align: middle;\n",
       "    }\n",
       "\n",
       "    .dataframe tbody tr th {\n",
       "        vertical-align: top;\n",
       "    }\n",
       "\n",
       "    .dataframe thead th {\n",
       "        text-align: right;\n",
       "    }\n",
       "</style>\n",
       "<table border=\"1\" class=\"dataframe\">\n",
       "  <thead>\n",
       "    <tr style=\"text-align: right;\">\n",
       "      <th></th>\n",
       "      <th>Unnamed: 0</th>\n",
       "      <th>City</th>\n",
       "      <th>Country</th>\n",
       "      <th>Max Temp</th>\n",
       "      <th>Current Description</th>\n",
       "      <th>Lat</th>\n",
       "      <th>Lng</th>\n",
       "      <th>Hotel Name</th>\n",
       "    </tr>\n",
       "  </thead>\n",
       "  <tbody>\n",
       "    <tr>\n",
       "      <th>51</th>\n",
       "      <td>198</td>\n",
       "      <td>Pacific Grove</td>\n",
       "      <td>US</td>\n",
       "      <td>69.01</td>\n",
       "      <td>clear sky</td>\n",
       "      <td>36.62</td>\n",
       "      <td>-121.92</td>\n",
       "      <td>Lovers Point Inn</td>\n",
       "    </tr>\n",
       "    <tr>\n",
       "      <th>65</th>\n",
       "      <td>246</td>\n",
       "      <td>San Jose</td>\n",
       "      <td>US</td>\n",
       "      <td>69.01</td>\n",
       "      <td>scattered clouds</td>\n",
       "      <td>37.34</td>\n",
       "      <td>-121.89</td>\n",
       "      <td>The Westin San Jose</td>\n",
       "    </tr>\n",
       "    <tr>\n",
       "      <th>89</th>\n",
       "      <td>335</td>\n",
       "      <td>San Ramon</td>\n",
       "      <td>US</td>\n",
       "      <td>69.01</td>\n",
       "      <td>clear sky</td>\n",
       "      <td>37.78</td>\n",
       "      <td>-121.98</td>\n",
       "      <td>San Ramon Marriott</td>\n",
       "    </tr>\n",
       "    <tr>\n",
       "      <th>137</th>\n",
       "      <td>542</td>\n",
       "      <td>Discovery Bay</td>\n",
       "      <td>US</td>\n",
       "      <td>68.00</td>\n",
       "      <td>clear sky</td>\n",
       "      <td>37.91</td>\n",
       "      <td>-121.60</td>\n",
       "      <td>Orwood Resort Inc</td>\n",
       "    </tr>\n",
       "  </tbody>\n",
       "</table>\n",
       "</div>"
      ],
      "text/plain": [
       "     Unnamed: 0           City Country  Max Temp Current Description    Lat  \\\n",
       "51          198  Pacific Grove      US     69.01           clear sky  36.62   \n",
       "65          246       San Jose      US     69.01    scattered clouds  37.34   \n",
       "89          335      San Ramon      US     69.01           clear sky  37.78   \n",
       "137         542  Discovery Bay      US     68.00           clear sky  37.91   \n",
       "\n",
       "        Lng           Hotel Name  \n",
       "51  -121.92     Lovers Point Inn  \n",
       "65  -121.89  The Westin San Jose  \n",
       "89  -121.98   San Ramon Marriott  \n",
       "137 -121.60    Orwood Resort Inc  "
      ]
     },
     "execution_count": 3,
     "metadata": {},
     "output_type": "execute_result"
    }
   ],
   "source": [
    "# Dataframe for 4 selected cities\n",
    "starting_city = [\"Pacific Grove\"]\n",
    "visiting_city = [\"San Jose\", \"San Ramon\", \"Discovery Bay\"]\n",
    "destination1 = visiting_city[0]\n",
    "destination2 = visiting_city[1]\n",
    "destination3 = visiting_city[2]\n",
    "\n",
    "\n",
    "Itinerary_df = WeatherVacation_df[WeatherVacation_df[\"City\"].isin(starting_city) | WeatherVacation_df[\"City\"].isin(visiting_city)]\n",
    "Itinerary_df"
   ]
  },
  {
   "cell_type": "code",
   "execution_count": 4,
   "metadata": {
    "scrolled": true
   },
   "outputs": [
    {
     "data": {
      "text/plain": [
       "(37.91, -121.6)"
      ]
     },
     "execution_count": 4,
     "metadata": {},
     "output_type": "execute_result"
    }
   ],
   "source": [
    "# Assign the coordinates to be passed to gmap parameters.\n",
    "coordinates_starting = (Itinerary_df[Itinerary_df[\"City\"]== \"Pacific Grove\"].Lat.values[0], Itinerary_df[Itinerary_df[\"City\"]== \"Pacific Grove\"].Lng.values[0])\n",
    "coordinates_destiny1 = (Itinerary_df[Itinerary_df[\"City\"]== \"San Jose\"].Lat.values[0], Itinerary_df[Itinerary_df[\"City\"]== \"San Jose\"].Lng.values[0])\n",
    "coordinates_destiny2 = (Itinerary_df[Itinerary_df[\"City\"]== \"San Ramon\"].Lat.values[0], Itinerary_df[Itinerary_df[\"City\"]== \"San Ramon\"].Lng.values[0])\n",
    "coordinates_ending = (Itinerary_df[Itinerary_df[\"City\"]== \"Discovery Bay\"].Lat.values[0], Itinerary_df[Itinerary_df[\"City\"]== \"Discovery Bay\"].Lng.values[0])\n",
    "coordinates_ending"
   ]
  },
  {
   "cell_type": "code",
   "execution_count": 5,
   "metadata": {
    "scrolled": true
   },
   "outputs": [
    {
     "data": {
      "application/vnd.jupyter.widget-view+json": {
       "model_id": "1d73769e4aa148d287ba86f575bbedce",
       "version_major": 2,
       "version_minor": 0
      },
      "text/plain": [
       "Figure(layout=FigureLayout(height='420px'))"
      ]
     },
     "metadata": {},
     "output_type": "display_data"
    }
   ],
   "source": [
    "# Display pop up format template\n",
    "info_box_template = \"\"\"\n",
    "<dl>\n",
    "<dt>Hotel Name</dt><dd>{Hotel Name}</dd>\n",
    "<dt>City</dt><dd>{City}</dd>\n",
    "<dt>Country</dt><dd>{Country}</dd>\n",
    "<dt>Current Weather</dt><dd>{Current Description} and {Max Temp} °F</dd>\n",
    "</dl>\n",
    "\"\"\"\n",
    "\n",
    "hotel_info = [info_box_template.format(**row) for index, row in Itinerary_df.iterrows()]\n",
    "\n",
    "# Add a pop-up marker for each city.\n",
    "locations = Itinerary_df[[\"Lat\", \"Lng\"]]\n",
    "max_temp = Itinerary_df[\"Max Temp\"]\n",
    "fig = gmaps.figure(center=coordinates_starting, zoom_level=5)\n",
    "\n",
    "\n",
    "\n",
    "marker_layer = gmaps.marker_layer(locations, info_box_content=hotel_info)\n",
    "\n",
    "fig.add_layer(marker_layer)\n",
    "\n",
    "\n",
    "fig"
   ]
  },
  {
   "cell_type": "code",
   "execution_count": 6,
   "metadata": {
    "scrolled": true
   },
   "outputs": [
    {
     "data": {
      "application/vnd.jupyter.widget-view+json": {
       "model_id": "e7968e1f848b4f8c9d2b75406d62e933",
       "version_major": 2,
       "version_minor": 0
      },
      "text/plain": [
       "Figure(layout=FigureLayout(height='420px'))"
      ]
     },
     "metadata": {},
     "output_type": "display_data"
    }
   ],
   "source": [
    "# Directions layer\n",
    "fig = gmaps.figure(center=coordinates_starting, zoom_level=5)\n",
    "starttoend = gmaps.directions_layer(coordinates_starting, coordinates_ending, \n",
    "                                    waypoints=[coordinates_destiny1, coordinates_destiny2], travel_mode='DRIVING')\n",
    "fig.add_layer(starttoend)\n",
    "fig"
   ]
  },
  {
   "cell_type": "code",
   "execution_count": null,
   "metadata": {},
   "outputs": [],
   "source": []
  }
 ],
 "metadata": {
  "kernelspec": {
   "display_name": "PythonData",
   "language": "python",
   "name": "pythondata"
  },
  "language_info": {
   "codemirror_mode": {
    "name": "ipython",
    "version": 3
   },
   "file_extension": ".py",
   "mimetype": "text/x-python",
   "name": "python",
   "nbconvert_exporter": "python",
   "pygments_lexer": "ipython3",
   "version": "3.7.6"
  }
 },
 "nbformat": 4,
 "nbformat_minor": 4
}
